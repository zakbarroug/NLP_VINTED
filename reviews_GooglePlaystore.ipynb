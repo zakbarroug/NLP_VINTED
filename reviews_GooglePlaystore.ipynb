{
  "nbformat": 4,
  "nbformat_minor": 0,
  "metadata": {
    "colab": {
      "provenance": []
    },
    "kernelspec": {
      "name": "python3",
      "display_name": "Python 3"
    },
    "language_info": {
      "name": "python"
    }
  },
  "cells": [
    {
      "cell_type": "code",
      "source": [
        "!pip install google-play-scraper"
      ],
      "metadata": {
        "colab": {
          "base_uri": "https://localhost:8080/"
        },
        "id": "FSYXp7VYhxwl",
        "outputId": "927b0a53-5849-4030-8f5e-8188cf4c63b3"
      },
      "execution_count": null,
      "outputs": [
        {
          "output_type": "stream",
          "name": "stdout",
          "text": [
            "Collecting google-play-scraper\n",
            "  Downloading google_play_scraper-1.2.7-py3-none-any.whl.metadata (50 kB)\n",
            "\u001b[?25l     \u001b[90m━━━━━━━━━━━━━━━━━━━━━━━━━━━━━━━━━━━━━━━━\u001b[0m \u001b[32m0.0/50.2 kB\u001b[0m \u001b[31m?\u001b[0m eta \u001b[36m-:--:--\u001b[0m\r\u001b[2K     \u001b[90m━━━━━━━━━━━━━━━━━━━━━━━━━━━━━━━━━━━━━━━━\u001b[0m \u001b[32m50.2/50.2 kB\u001b[0m \u001b[31m2.3 MB/s\u001b[0m eta \u001b[36m0:00:00\u001b[0m\n",
            "\u001b[?25hDownloading google_play_scraper-1.2.7-py3-none-any.whl (28 kB)\n",
            "Installing collected packages: google-play-scraper\n",
            "Successfully installed google-play-scraper-1.2.7\n"
          ]
        }
      ]
    },
    {
      "cell_type": "code",
      "execution_count": null,
      "metadata": {
        "colab": {
          "base_uri": "https://localhost:8080/"
        },
        "id": "tl3NnRFZhtZZ",
        "outputId": "1d079535-82d4-4536-c56d-2b108495da8d"
      },
      "outputs": [
        {
          "output_type": "stream",
          "name": "stdout",
          "text": [
            "Requirement already satisfied: google-play-scraper in /usr/local/lib/python3.11/dist-packages (1.2.7)\n",
            "✅ 388182 avis récupérés et enregistrés dans 'vinted_reviews.csv'.\n"
          ]
        }
      ],
      "source": [
        "\n",
        "\n",
        "import pandas as pd\n",
        "from google_play_scraper import reviews_all, Sort\n",
        "import time\n",
        "\n",
        "# ID de l'application\n",
        "app_id = \"fr.vinted\"\n",
        "\n",
        "# Récupérer tous les avis (triés du plus récent au plus ancien)\n",
        "reviews = reviews_all(\n",
        "    app_id,\n",
        "    lang=\"fr\",\n",
        "    country=\"fr\",\n",
        "    sort=Sort.NEWEST\n",
        ")\n",
        "\n",
        "\n",
        "time.sleep(2)\n",
        "\n",
        "# Convertir en DataFrame\n",
        "df = pd.DataFrame(reviews)\n",
        "\n",
        "\n",
        "df.to_csv(\"vinted_reviews.csv\", index=False, encoding=\"utf-16\", sep=\";\")\n",
        "\n",
        "print(f\"✅ {len(df)} avis récupérés et enregistrés dans 'vinted_reviews.csv'.\")\n"
      ]
    }
  ]
}